{
  "nbformat": 4,
  "nbformat_minor": 0,
  "metadata": {
    "colab": {
      "name": "Periodic voting",
      "provenance": [],
      "include_colab_link": true
    },
    "kernelspec": {
      "name": "python3",
      "display_name": "Python 3"
    }
  },
  "cells": [
    {
      "cell_type": "markdown",
      "metadata": {
        "id": "view-in-github",
        "colab_type": "text"
      },
      "source": [
        "<a href=\"https://colab.research.google.com/github/thecrazyphysicist369/Voting-in-a-Small-World-Network/blob/master/Periodic_voting.ipynb\" target=\"_parent\"><img src=\"https://colab.research.google.com/assets/colab-badge.svg\" alt=\"Open In Colab\"/></a>"
      ]
    },
    {
      "cell_type": "markdown",
      "metadata": {
        "id": "p7-xAgELn7Dm"
      },
      "source": [
        "#Periodic Voting\r\n",
        "###This uses a basic sin function to control the voting."
      ]
    },
    {
      "cell_type": "code",
      "metadata": {
        "id": "BJaszQc4aiZd"
      },
      "source": [
        "import networkx as nx\n",
        "import matplotlib.pyplot as plt\n",
        "import random\n",
        "\n",
        "\n",
        "#vertex generator generates each voter with their properties\n",
        "def gen_vertex(n):\n",
        "    ver_list=[]\n",
        "    c=0\n",
        "\n",
        "    for i in range(n):\n",
        "        vertex = {'index': c, \t\t\t#the unique index of the voter \n",
        "                  'endurance': random.randrange(-100, 100), #the enduaring power of the voter\n",
        "                  'influence': random.randint(10, 50), #the influencing power of the voter\n",
        "                  'connected': [], #the small world connections between the voters\n",
        "                  }\n",
        "        ver_list.append(vertex)\n",
        "        c+=1\n",
        "    return ver_list\n",
        "\n",
        "def gen_graph(n, k, p):\n",
        "   verlist = gen_vertex(n)\n",
        "   #n = a + b\n",
        "   G = nx.watts_strogatz_graph(n, k, p, seed=10)\n",
        "   neighbor = []\n",
        "   for node in list(sorted(G.nodes())):\n",
        "   \tneighbours = list(nx.all_neighbors(G, node))\n",
        "   \tneighbor.append(neighbours)\n",
        "   for i in range(n):\n",
        "   \tverlist[i]['connected']=neighbor[i]\n",
        "   #print(conlist)\n",
        "   return verlist"
      ],
      "execution_count": null,
      "outputs": []
    },
    {
      "cell_type": "code",
      "metadata": {
        "id": "nbzZ5xDIarnV"
      },
      "source": [
        "#This is the periodic voting function for the small world network\n",
        "import math\n",
        "import random\n",
        "def prd_campaining(voters):\n",
        "    list_pos = [] #list for party A\n",
        "    list_neg = [] #list for party B\n",
        "    list_neu = [] #list for neutral Party\n",
        "    pos = 0\n",
        "    neg = 0\n",
        "    neu = 0\n",
        "    for influencer in voters:\n",
        "        friends = influencer['connected']\n",
        "        #print(friends)\n",
        "        for j in friends:\n",
        "            v_en=float(voters[j]['endurance'])\n",
        "            in_en=float(influencer['endurance'])\n",
        "            in_in=float(influencer['influence'])\n",
        "\t        \n",
        "            if v_en>0 and in_en>0:\n",
        "\t\t    #if the voter and influencer belongs to the same party A\n",
        "                voters[j]['endurance'] = v_en + in_in * (math.sin(math.radians(v_en))) * 10\n",
        "            elif v_en<0 and in_en<0:\n",
        "\t    \t#if the voter and influencer belongs to the same party B\n",
        "                voters[j]['endurance'] = v_en + in_in * (math.sin(math.radians(v_en))) * 10\n",
        "            elif v_en >0 and in_en<0:\n",
        "\t    \t#if voter belongs to A and influencer in B\n",
        "               \tvoters[j]['endurance'] = v_en + in_in * (math.sin(math.radians(v_en))) * 10\n",
        "            elif v_en<0 and in_en>0:\n",
        "\t    \t#if voter belongs to B and influencer in A\n",
        "               \tvoters[j]['endurance'] = v_en + in_in * (math.sin(math.radians(v_en))) * 10\n",
        "            elif v_en==0 and in_en>0:\n",
        "                voters[j]['endurance'] = in_in\n",
        "            elif v_en==0 and in_en<0:\n",
        "                voters[j]['endurance'] = -1 * in_in\n",
        "            \n",
        "            #print(j, voters[j]['endurance'])\n",
        "        #print('\\n')\n",
        "        pos = 0\n",
        "        neg = 0\n",
        "        neu = 0\n",
        "        for j in range(len(voters)):\n",
        "            if float(voters[j]['endurance'])>0:\n",
        "                pos += 1\n",
        "            elif float(voters[j]['endurance'])<0:\n",
        "                neg += 1\n",
        "            else:\n",
        "                neu += 1\n",
        "        list_pos.append(pos)\n",
        "        list_neg.append(neg)\n",
        "        list_neu.append(neu)\n",
        "\n",
        "    return (voters, list_pos,\n",
        "            list_neg,\n",
        "            list_neu)"
      ],
      "execution_count": null,
      "outputs": []
    },
    {
      "cell_type": "code",
      "metadata": {
        "id": "cwaf-V6cas2r",
        "colab": {
          "base_uri": "https://localhost:8080/",
          "height": 371
        },
        "outputId": "b7be4041-e1b7-47f6-b3ea-469268fcf119"
      },
      "source": [
        "number_of_voters = int(input(\"Please input the number of voters you want to analyze : \"))\n",
        "\n",
        "k = int(input(\"\\nInput the k nearest neighbors : \"))\n",
        "\n",
        "p = float(input(\"enter the probablity of the node connection : \"))\n",
        "\n",
        "iterations = int(input(\"please enter the number of iterations you want the campaining to run : \"))\n",
        "number=[]\n",
        "for i in range(number_of_voters):\n",
        "    number.append(i)\n",
        "\n",
        "#Generating the small world network\n",
        "voters_p = gen_graph(number_of_voters, k, p)\n",
        "\n",
        "posi = []\n",
        "negi = [] \n",
        "neut = []\n",
        "count = []\n",
        "\n",
        "  #The voting takes place as many times the iteration is chosen\n",
        "print (\"Doing Periodic Voting\")\n",
        "\n",
        "for j in range (iterations):\n",
        "\tvoters_p,pos,neg,neu=prd_campaining(voters_p)\n",
        "\tposi.append(pos[number_of_voters-1]) #Keeps track of party A\n",
        "\t#print(pos[number_of_voters-1])\n",
        "\tnegi.append(neg[number_of_voters-1]) #Keeps track of party B\n",
        "\t#print(neg[number_of_voters-1])\n",
        "\tneut.append(neu[number_of_voters-1]) #Keeps track of Neutral\n",
        "\tcount.append(j)\n",
        "\t#print_each_iter(number,\tpos, neg)\n",
        "    \n",
        "\n",
        "\n",
        "plt.plot(count, posi, color='r', label = \"party A\")\n",
        "plt.plot(count, negi, color='b', label = \"party B\")\n",
        "#plt.plot(count, neut, color='g', label = \"Neutral\")\n",
        "plt.legend()\n",
        "plt.show()"
      ],
      "execution_count": null,
      "outputs": [
        {
          "output_type": "stream",
          "text": [
            "Please input the number of voters you want to analyze : 500\n",
            "\n",
            "Input the k nearest neighbors : 10\n",
            "enter the probablity of the node connection : 0.5\n",
            "please enter the number of iterations you want the campaining to run : 10\n",
            "Doing Periodic Voting\n"
          ],
          "name": "stdout"
        },
        {
          "output_type": "display_data",
          "data": {
            "image/png": "[encoded data removed]",
            "text/plain": [
              "<Figure size 432x288 with 1 Axes>"
            ]
          },
          "metadata": {
            "tags": []
          }
        }
      ]
    },
    {
      "cell_type": "code",
      "metadata": {
        "id": "j6j0q0ckayOa"
      },
      "source": [
        ""
      ],
      "execution_count": null,
      "outputs": []
    }
  ]
}