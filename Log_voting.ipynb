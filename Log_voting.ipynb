{
  "nbformat": 4,
  "nbformat_minor": 0,
  "metadata": {
    "colab": {
      "name": "Log voting",
      "provenance": [],
      "include_colab_link": true
    },
    "kernelspec": {
      "name": "python3",
      "display_name": "Python 3"
    }
  },
  "cells": [
    {
      "cell_type": "markdown",
      "metadata": {
        "id": "view-in-github",
        "colab_type": "text"
      },
      "source": [
        "<a href=\"https://colab.research.google.com/github/thecrazyphysicist369/Voting-in-a-Small-World-Network/blob/master/Log_voting.ipynb\" target=\"_parent\"><img src=\"https://colab.research.google.com/assets/colab-badge.svg\" alt=\"Open In Colab\"/></a>"
      ]
    },
    {
      "cell_type": "markdown",
      "metadata": {
        "id": "LEFiy8JwpuO-"
      },
      "source": [
        "#Logarithmic fucntion for voting"
      ]
    },
    {
      "cell_type": "code",
      "metadata": {
        "id": "kPcFAiRoZb-L"
      },
      "source": [
        "import networkx as nx\n",
        "import matplotlib.pyplot as plt\n",
        "import random\n",
        "\n",
        "\n",
        "#vertex generator generates each voter with their properties\n",
        "def gen_vertex(n):\n",
        "    ver_list=[]\n",
        "    c=0\n",
        "\n",
        "    for i in range(n):\n",
        "        vertex = {'index': c, \t\t\t#the unique index of the voter \n",
        "                  'endurance': random.randrange(-100, 100), #the enduaring power of the voter\n",
        "                  'influence': random.randint(10, 50), #the influencing power of the voter\n",
        "                  'connected': [], #the small world connections between the voters\n",
        "                  }\n",
        "        ver_list.append(vertex)\n",
        "        c+=1\n",
        "    return ver_list\n",
        "\n",
        "def gen_graph(n, k, p):\n",
        "   verlist = gen_vertex(n)\n",
        "   #n = a + b\n",
        "   G = nx.watts_strogatz_graph(n, k, p, seed=10)\n",
        "   neighbor = []\n",
        "   for node in list(sorted(G.nodes())):\n",
        "   \tneighbours = list(nx.all_neighbors(G, node))\n",
        "   \tneighbor.append(neighbours)\n",
        "   for i in range(n):\n",
        "   \tverlist[i]['connected']=neighbor[i]\n",
        "   #print(conlist)\n",
        "   return verlist"
      ],
      "execution_count": null,
      "outputs": []
    },
    {
      "cell_type": "code",
      "metadata": {
        "id": "CAiRwcJbaK_t"
      },
      "source": [
        "#This is the logarithmic voting function for the small world network.\n",
        "import math as m\n",
        "import random\n",
        "def log_campaining(voters):\n",
        "    list_pos = [] #list for party A\n",
        "    list_neg = [] #list for party B\n",
        "    list_neu = [] #list for neutral Party\n",
        "    pos = 0\n",
        "    neg = 0\n",
        "    neu = 0\n",
        "    for influencer in voters:\n",
        "        friends = influencer['connected']\n",
        "        #print(friends)\n",
        "        for j in friends:\n",
        "            v_en=float(voters[j]['endurance'])\n",
        "            in_en=float(influencer['endurance'])\n",
        "            in_in=float(influencer['influence'])\n",
        "\t        \n",
        "            if v_en>0 and in_en>0:\n",
        "\t\t    #if the voter and influencer belongs to the same party A\n",
        "                voters[j]['endurance'] = v_en + m.log2(abs(v_en)**in_in)\n",
        "            elif v_en<0 and in_en<0:\n",
        "\t    \t#if the voter and influencer belongs to the same party B\n",
        "                voters[j]['endurance'] = v_en + m.log2(abs(v_en)**-in_in)\n",
        "            elif v_en >0 and in_en<0:\n",
        "\t    \t#if voter belongs to A and influencer in B\n",
        "               \tvoters[j]['endurance'] = v_en + m.log2(abs(v_en)**-in_in)\n",
        "            elif v_en<0 and in_en>0:\n",
        "\t    \t#if voter belongs to B and influencer in A\n",
        "               \tvoters[j]['endurance'] = v_en + m.log2(abs(v_en)**in_in)\n",
        "            elif v_en==0 and in_en>0:\n",
        "                v_en += 1\n",
        "                voters[j]['endurance'] = m.log2(abs(v_en)**in_in)\n",
        "            elif v_en==0 and in_en<0:\t\t\t\n",
        "                v_en += 1\n",
        "                voters[j]['endurance'] = m.log2(abs(v_en)**-in_in)\n",
        "        #    print(j, voters[j]['endurance'])\n",
        "        #print('\\n')\n",
        "        pos = 0\n",
        "        neg = 0\n",
        "        neu = 0\n",
        "        for j in range(len(voters)):\n",
        "            if float(voters[j]['endurance'])>0:\n",
        "                pos += 1\n",
        "            elif float(voters[j]['endurance'])<0:\n",
        "                neg += 1\n",
        "            else:\n",
        "                neu += 1\n",
        "        list_pos.append(pos)\n",
        "        list_neg.append(neg)\n",
        "        list_neu.append(neu)\n",
        "\n",
        "    return (voters, list_pos,\n",
        "            list_neg,\n",
        "            list_neu)"
      ],
      "execution_count": null,
      "outputs": []
    },
    {
      "cell_type": "code",
      "metadata": {
        "id": "OsBl-uGOaZlC",
        "colab": {
          "base_uri": "https://localhost:8080/",
          "height": 367
        },
        "outputId": "afbb121a-0946-4a55-fcb5-f4575a5db273"
      },
      "source": [
        "number_of_voters = int(input(\"Please input the number of voters you want to analyze : \"))\n",
        "\n",
        "k = int(input(\"\\nInput the k nearest neighbors : \"))\n",
        "\n",
        "p = float(input(\"enter the probablity of the node connection : \"))\n",
        "\n",
        "iterations = int(input(\"please enter the number of iterations you want the campaining to run : \"))\n",
        "number=[]\n",
        "for i in range(number_of_voters):\n",
        "    number.append(i)\n",
        "\n",
        "#Generating the small world network\n",
        "voters_p = gen_graph(number_of_voters, k, p)\n",
        "\n",
        "posi = []\n",
        "negi = [] \n",
        "neut = []\n",
        "count = []\n",
        "\n",
        "  #The voting takes place as many times the iteration is chosen\n",
        "print (\"Doing Logarithmic Voting\")\n",
        "\n",
        "for j in range (iterations):\n",
        "\tvoters_p,pos,neg,neu=log_campaining(voters_p)\n",
        "\tposi.append(pos[number_of_voters-1]) #Keeps track of party A\n",
        "\t#print(pos[number_of_voters-1])\n",
        "\tnegi.append(neg[number_of_voters-1]) #Keeps track of party B\n",
        "\t#print(neg[number_of_voters-1])\n",
        "\tneut.append(neu[number_of_voters-1]) #Keeps track of Neutral\n",
        "\tcount.append(j)\n",
        "\t#print_each_iter(number,\tpos, neg)\n",
        "    \n",
        "\n",
        "\n",
        "plt.plot(count, posi, color='r', label = \"party A\")\n",
        "plt.plot(count, negi, color='b', label = \"party B\")\n",
        "#plt.plot(count, neut, color='g', label = \"Neutral\")\n",
        "plt.legend()\n",
        "plt.show()"
      ],
      "execution_count": null,
      "outputs": [
        {
          "output_type": "stream",
          "text": [
            "Please input the number of voters you want to analyze : 10000\n",
            "\n",
            "Input the k nearest neighbors : 10\n",
            "enter the probablity of the node connection : 0.1\n",
            "please enter the number of iterations you want the campaining to run : 100\n",
            "Doing Logarithmic Voting\n"
          ],
          "name": "stdout"
        },
        {
          "output_type": "display_data",
          "data": {
            "image/png": "[encoded data removed]",
            "text/plain": [
              "<Figure size 432x288 with 1 Axes>"
            ]
          },
          "metadata": {
            "tags": []
          }
        }
      ]
    },
    {
      "cell_type": "code",
      "metadata": {
        "id": "gmsNN8QLoC-E"
      },
      "source": [
        ""
      ],
      "execution_count": null,
      "outputs": []
    }
  ]
}